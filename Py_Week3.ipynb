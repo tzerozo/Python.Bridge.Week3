{
  "nbformat": 4,
  "nbformat_minor": 0,
  "metadata": {
    "colab": {
      "name": "Py.Week3.ipynb",
      "provenance": []
    },
    "kernelspec": {
      "name": "python3",
      "display_name": "Python 3"
    },
    "language_info": {
      "name": "python"
    }
  },
  "cells": [
    {
      "cell_type": "markdown",
      "source": [
        "The weights of steers in a herd are distributed normally.  The variance is 40,000 and the mean steer weight is 1300 lbs.  Find the probability that the weight of a randomly selected steer is greater than 979 lbs. (Round your answer to 4 decimal places)\n",
        "\tVariance = 40,000\n",
        "\tMean \t= 1,300 lbs\n",
        "\tX\t= 979 lbs\n",
        "\n",
        "https://albertotb.com/Equivalence-between-distribution-functions-in-R-and-Python/"
      ],
      "metadata": {
        "id": "u4qBLeHabkLp"
      }
    },
    {
      "cell_type": "code",
      "source": [
        "import pandas as pd\n",
        "import numpy as np\n",
        "import matplotlib as mplot\n",
        "from scipy.stats import norm\n",
        "from scipy.stats import binom"
      ],
      "metadata": {
        "id": "FweX82sgioCO"
      },
      "execution_count": 2,
      "outputs": []
    },
    {
      "cell_type": "code",
      "source": [
        "x = 1 - norm.cdf (979, loc=1300, scale=200)\n",
        "print(round(x, 4))"
      ],
      "metadata": {
        "colab": {
          "base_uri": "https://localhost:8080/"
        },
        "id": "noxmvCaxbkGP",
        "outputId": "7c1437ad-cd91-493a-c992-13e2c63470af"
      },
      "execution_count": 9,
      "outputs": [
        {
          "output_type": "stream",
          "name": "stdout",
          "text": [
            "0.9458\n"
          ]
        }
      ]
    },
    {
      "cell_type": "markdown",
      "source": [
        "SVGA monitors manufactured by TSI Electronics have life spans that have a normal distribution with a variance of 1,960,000 and a mean life span of 11,000 hours.  If a SVGA monitor is selected at random, find the probability that the life span of the monitor will be more than 8340 hours. (Round your answer to 4 decimal places)\n"
      ],
      "metadata": {
        "id": "6AFNPoPAbj2U"
      }
    },
    {
      "cell_type": "code",
      "source": [
        "import math\n",
        "math.sqrt(1960000)"
      ],
      "metadata": {
        "colab": {
          "base_uri": "https://localhost:8080/"
        },
        "id": "5dJJ7tJ7bj7E",
        "outputId": "6fadc5d2-6eef-4c45-8951-c89d05836a36"
      },
      "execution_count": 12,
      "outputs": [
        {
          "output_type": "execute_result",
          "data": {
            "text/plain": [
              "1400.0"
            ]
          },
          "metadata": {},
          "execution_count": 12
        }
      ]
    },
    {
      "cell_type": "code",
      "source": [
        "y = 1 - norm.cdf (8340, loc = 11000, scale = 1400)\n",
        "print (round(y, 4))"
      ],
      "metadata": {
        "colab": {
          "base_uri": "https://localhost:8080/"
        },
        "id": "8-f8KU80bjvx",
        "outputId": "121ba42f-73ab-4d87-a7e5-fa0883024cfb"
      },
      "execution_count": 13,
      "outputs": [
        {
          "output_type": "stream",
          "name": "stdout",
          "text": [
            "0.9713\n"
          ]
        }
      ]
    },
    {
      "cell_type": "markdown",
      "source": [
        "Suppose the mean income of firms in the industry for a year is 80 million dollars with a standard deviation of 3 million dollars.  If incomes for the industry are distributed normally, what is the probability that a randomly selected firm will earn between 83 and 85 million dollars? (Round your answer to 4 decimal places)\n",
        "mean = 80,000,000 | std.dev = 3,000,000 | \n",
        "var1 = 83,000,000 | var2 = 85,000,000\n",
        "Probability?? "
      ],
      "metadata": {
        "id": "uWbx5qYLbjf2"
      }
    },
    {
      "cell_type": "code",
      "source": [
        "p = norm.cdf(85, loc=80, scale=3)-norm.cdf(83, loc=80, scale=3)\n",
        "print (round (p, 4))"
      ],
      "metadata": {
        "colab": {
          "base_uri": "https://localhost:8080/"
        },
        "id": "z_i11TEwbjaa",
        "outputId": "c68ef5de-d443-4c53-9f2a-ff318cf76767"
      },
      "execution_count": 3,
      "outputs": [
        {
          "output_type": "stream",
          "name": "stdout",
          "text": [
            "0.1109\n"
          ]
        }
      ]
    },
    {
      "cell_type": "markdown",
      "source": [
        "Suppose GRE Verbal scores are normally distributed with a **mean of 456** and a **standard deviation of 123**.  A university plans to offer tutoring jobs to students whose scores are in the **top 14%**.  What is the **minimum score** required for the job offer?  Round your answer to the nearest whole number, if necessary.\n",
        "https://technoteshelp.com/python-how-to-use-norm-ppf/"
      ],
      "metadata": {
        "id": "SwK_DqBUbjJ2"
      }
    },
    {
      "cell_type": "code",
      "source": [
        "minimumscore = norm.ppf((1- 0.14), 456, 123)\n",
        "print (round (minimumscore, 0))"
      ],
      "metadata": {
        "colab": {
          "base_uri": "https://localhost:8080/"
        },
        "id": "AtYYmfCUbjEW",
        "outputId": "99555761-9483-4659-c36a-c974d4153e6e"
      },
      "execution_count": 11,
      "outputs": [
        {
          "output_type": "stream",
          "name": "stdout",
          "text": [
            "589.0\n"
          ]
        }
      ]
    },
    {
      "cell_type": "markdown",
      "source": [
        "The lengths of nails produced in a factory are normally distributed with a** mean of 6.13** centimeters and a **standard deviation of 0.06** centimeters.  **Find the two lengths** that separate the** top 7% **and the** bottom 7%**.  These lengths could serve as limits used to identify which nails should be rejected.  Round your answer to the nearest hundredth, if necessary."
      ],
      "metadata": {
        "id": "mBVjOE28biwS"
      }
    },
    {
      "cell_type": "code",
      "source": [
        "top = norm.ppf(0.93, 6.13, 0.06)\n",
        "print (round(top, 2))\n",
        "bottom = norm.ppf(0.07, 6.13, 0.06)\n",
        "print (round(bottom, 2))\n"
      ],
      "metadata": {
        "colab": {
          "base_uri": "https://localhost:8080/"
        },
        "id": "47A-yg5abimd",
        "outputId": "b0318a8a-bc39-4905-94e7-ee0f857aa899"
      },
      "execution_count": 12,
      "outputs": [
        {
          "output_type": "stream",
          "name": "stdout",
          "text": [
            "6.22\n",
            "6.04\n"
          ]
        }
      ]
    },
    {
      "cell_type": "markdown",
      "source": [
        "An English professor assigns letter grades on a test according to the following scheme.\n",
        "\n",
        "\tA:  Top 13% of scores\n",
        "\tB:  Scores below the top 13% and above the bottom 55%\n",
        "\tC:  Scores below the top 45% and above the bottom 20%\n",
        "\tD:  Scores below the top 80% and above the bottom 9%\n",
        "\tF:  Bottom 9% of scores\n",
        "\n",
        "\tScores on the test are normally distributed with a **mean of 78.8** and a **standard deviation of 9.8**.  **Find the numerical limits for a C grade**.  Round your answers to the nearest whole number, if necessary.\n"
      ],
      "metadata": {
        "id": "a72hpmJ1biNo"
      }
    },
    {
      "cell_type": "code",
      "source": [
        "TopC = norm.ppf ((1 - 0.45), 78.8, 9.8)\n",
        "BotC = norm.ppf (0.2 , 78.8, 9.8)\n",
        "print (round (TopC,1))\n",
        "print (round (BotC,1))"
      ],
      "metadata": {
        "colab": {
          "base_uri": "https://localhost:8080/"
        },
        "id": "6uzxIgAibiEm",
        "outputId": "6e93e915-ec69-43b8-bc67-ccb5cf1e4926"
      },
      "execution_count": 19,
      "outputs": [
        {
          "output_type": "stream",
          "name": "stdout",
          "text": [
            "80.0\n",
            "70.6\n"
          ]
        }
      ]
    },
    {
      "cell_type": "markdown",
      "source": [
        "Suppose ACT Composite scores are normally distributed with a** mean of 21**.2 and a standard deviation of 5.4. **bold text**  A university plans to admit students whose scores are in the** top 45**%.  What is the **minimum score required** for admission?  Round your answer to the nearest tenth, if necessary."
      ],
      "metadata": {
        "id": "8EsFElEvbh76"
      }
    },
    {
      "cell_type": "code",
      "source": [
        "min_score = norm.ppf((1 - 0.45), 21.2, 5.4)\n",
        "print (round (min_score, 1))"
      ],
      "metadata": {
        "colab": {
          "base_uri": "https://localhost:8080/"
        },
        "id": "h1NbEzNGbhw7",
        "outputId": "f2b1c569-c002-4922-ff8f-4734a550879e"
      },
      "execution_count": 20,
      "outputs": [
        {
          "output_type": "stream",
          "name": "stdout",
          "text": [
            "21.9\n"
          ]
        }
      ]
    },
    {
      "cell_type": "markdown",
      "source": [
        "Consider the **probability that less than 11 out of 151 students** will not graduate on time.  Assume the probability that a **given student will not graduate on time is 9%**.  Approximate the **probability using the normal distribution**. (Round your answer to 4 decimal places.)"
      ],
      "metadata": {
        "id": "l3GlXe2lbhfz"
      }
    },
    {
      "cell_type": "code",
      "source": [
        ""
      ],
      "metadata": {
        "id": "Jspfmd0y4NqK"
      },
      "execution_count": null,
      "outputs": []
    },
    {
      "cell_type": "markdown",
      "source": [
        "The mean lifetime of a tire is 48 months with a standard deviation of 7.  If 147 tires are sampled, what is the probability that the mean of the sample would be greater than 48.83 months? (Round your answer to 4 decimal places)"
      ],
      "metadata": {
        "id": "mgAJmIXxb9qY"
      }
    },
    {
      "cell_type": "code",
      "source": [
        "# mean = 48, std = 7, sample = 147, sample.mean 48.83, prob =?\n",
        "p = norm.cdf (48, 48.83, 7 / (147 ** (1/2)))\n",
        "print (round(p, 4))"
      ],
      "metadata": {
        "colab": {
          "base_uri": "https://localhost:8080/"
        },
        "id": "Ds8CiG6_b90R",
        "outputId": "7fb13836-03ef-42ec-8537-da4d2301d2fa"
      },
      "execution_count": 7,
      "outputs": [
        {
          "output_type": "stream",
          "name": "stdout",
          "text": [
            "0.0753\n"
          ]
        }
      ]
    },
    {
      "cell_type": "markdown",
      "source": [
        "The quality control manager at a computer manufacturing company believes that the mean life of a computer is 91 months, with a standard deviation of 10.  If he is correct, what is the probability that the mean of a sample of 68 computers would be greater than 93.54 months? (Round your answer to 4 decimal places)"
      ],
      "metadata": {
        "id": "DvSkanuhb97j"
      }
    },
    {
      "cell_type": "code",
      "source": [
        "# mean =91, std = 10, sample = 68, sample.mean = 93.54\n",
        "q = norm.cdf (91, 93.54, 10 / (68 ** (1/2)))\n",
        "print (round (q, 4))"
      ],
      "metadata": {
        "colab": {
          "base_uri": "https://localhost:8080/"
        },
        "id": "q1vkEXz6b-D2",
        "outputId": "8acf2ae4-7bfa-4ab8-817c-93c5189c1f13"
      },
      "execution_count": 8,
      "outputs": [
        {
          "output_type": "stream",
          "name": "stdout",
          "text": [
            "0.0181\n"
          ]
        }
      ]
    },
    {
      "cell_type": "markdown",
      "source": [
        "A director of reservations believes that **7% of the ticketed passengers are no-shows**.  If the director is right, what is the probability that the proportion of no-shows in a **sample of 540 ticketed** passengers would differ from the **population proportion by less than 3%?** (Round your answer to 4 decimal places)\n",
        "mean = 0.07\n"
      ],
      "metadata": {
        "id": "Wn7NdbpCb-K_"
      }
    },
    {
      "cell_type": "code",
      "source": [
        "# mean = 0.07, sample = 540, difference = 3% or 0.03, \n",
        "# high - low, you are good to go.\n",
        "a = binom.cdf (0.10 * 540, 540, 0.07) - binom.cdf(0.04* 540, 540, 0.07)\n",
        "print (round(a, 4))"
      ],
      "metadata": {
        "colab": {
          "base_uri": "https://localhost:8080/"
        },
        "id": "-_bJE3esb-Rt",
        "outputId": "1f509443-7b84-49ba-8e99-4c714b313c9a"
      },
      "execution_count": 13,
      "outputs": [
        {
          "output_type": "stream",
          "name": "stdout",
          "text": [
            "0.9947\n"
          ]
        }
      ]
    },
    {
      "cell_type": "markdown",
      "source": [
        "A bottle maker believes that 23% of his bottles are defective.  If the bottle maker is accurate, what is the probability that the proportion of defective bottles in a sample of 602 bottles would differ from the population proportion by greater than 4%? (Round your answer to 4 decimal places)"
      ],
      "metadata": {
        "id": "JohVsRuhb-ZJ"
      }
    },
    {
      "cell_type": "code",
      "source": [
        "# mean = 0.23, sample = 602, difference = 4% or 0.04\n",
        "b = binom.cdf (0.27 * 602, 602, 0.23) - binom.cdf (0.19 * 602, 602, 0.23)\n",
        "print (round(b, 4))"
      ],
      "metadata": {
        "colab": {
          "base_uri": "https://localhost:8080/"
        },
        "id": "rImcgRpmb-gG",
        "outputId": "e74e8761-0285-40df-e1bb-b25cc4500029"
      },
      "execution_count": 14,
      "outputs": [
        {
          "output_type": "stream",
          "name": "stdout",
          "text": [
            "0.98\n"
          ]
        }
      ]
    },
    {
      "cell_type": "markdown",
      "source": [
        "A research company desires to know the mean consumption of beef per week among males over age 48.  Suppose a sample of size 208 is drawn with x ̅  = 3.9.  Assume ® = 0.8 .  Construct the 80% confidence interval for the mean number of lb. of beef per week among males over 48. (Round your answers to 1 decimal place) \n",
        "http://pytolearn.csd.auth.gr/d1-hyptest/11/distros.html\n",
        "\n",
        "\n",
        "\n",
        "\n",
        "\n"
      ],
      "metadata": {
        "id": "ZMLFPFVlb-oQ"
      }
    },
    {
      "cell_type": "code",
      "source": [
        "# mean = 3.9, sample = 208, std = 0.08, confidence interval = 80% or 0.8\n",
        "lower = norm.ppf ( 0.1, 3.9, 0.08/np.sqrt(208))\n",
        "print (round(lower,4))\n",
        "upper = norm.ppf (0.9, 3.9, 0.08/np.sqrt(208))\n",
        "print (round(upper,4))"
      ],
      "metadata": {
        "colab": {
          "base_uri": "https://localhost:8080/"
        },
        "id": "02Zog3Cxb-vq",
        "outputId": "6db02600-77c2-48fd-f9d9-8de2aa425eb3"
      },
      "execution_count": 18,
      "outputs": [
        {
          "output_type": "stream",
          "name": "stdout",
          "text": [
            "3.8929\n",
            "3.9071\n"
          ]
        }
      ]
    },
    {
      "cell_type": "markdown",
      "source": [
        "An economist wants to estimate the mean per capita income (in thousands of dollars) in a major city in California.  Suppose a sample of size 7472 is drawn with x ̅  = 16.6.  Assume ® = 11 .  Construct the 98% confidence interval for the mean per capita income. (Round your answers to 1 decimal place) \n",
        "\n",
        "\n",
        "\n",
        "\n",
        "\n",
        "\n"
      ],
      "metadata": {
        "id": "1_zkMczhb-3Q"
      }
    },
    {
      "cell_type": "code",
      "source": [
        "# mean = 16.6, sample = 7472, std = 11, confidence interval = 98% or 0.98\n",
        "lower = norm.ppf (0.02, 16.6, 11/np.sqrt(7472))\n",
        "print(round(lower,4))\n",
        "upper = norm.ppf (0.98, 16.6, 11/np.sqrt(7472))\n",
        "print(round(upper,4))"
      ],
      "metadata": {
        "colab": {
          "base_uri": "https://localhost:8080/"
        },
        "id": "mEO87bWlFP3T",
        "outputId": "96535449-2f0b-40de-a8e3-412c2606978f"
      },
      "execution_count": 23,
      "outputs": [
        {
          "output_type": "stream",
          "name": "stdout",
          "text": [
            "16.3387\n",
            "16.8613\n"
          ]
        }
      ]
    },
    {
      "cell_type": "markdown",
      "source": [
        "Find the value of t such that 0.05 of the area under the curve is to the left of t.  Assume the degrees of freedom equals 26.\n",
        "\n",
        "Step 1. Choose the picture which best describes the problem.\n",
        "Step 2. Write your answer below\n",
        "\n",
        "https://www.statology.org/t-distribution-python/\n",
        "\n",
        "\n",
        "\n",
        "\n",
        "\n",
        "\n",
        "\n",
        "\n"
      ],
      "metadata": {
        "id": "9_rGYhOucNSp"
      }
    },
    {
      "cell_type": "code",
      "source": [
        "# df = 26, area to left = 0.05\n",
        "from scipy.stats import t\n",
        "ans = t.ppf (0.05, 26)\n",
        "print (round (ans, 4))"
      ],
      "metadata": {
        "colab": {
          "base_uri": "https://localhost:8080/"
        },
        "id": "XcaTHUHrIRkm",
        "outputId": "041d0b0c-b56b-40e0-d7b8-d115139c0792"
      },
      "execution_count": 24,
      "outputs": [
        {
          "output_type": "stream",
          "name": "stdout",
          "text": [
            "-1.7056\n"
          ]
        }
      ]
    },
    {
      "cell_type": "markdown",
      "source": [
        "The following measurements ( in picocuries per liter ) were recorded by a set of helium gas detectors installed in a laboratory facility:  \n",
        "\t                                             383.6, 347.1, 371.9, 347.6, 325.8, 337\n",
        "\tUsing these measurements, construct a 90% confidence interval for the mean level of helium gas present in the facility.  Assume the population is normally distributed.  \n",
        "\n",
        "Step 1. Calculate the sample mean for the given sample data. (Round answer to 2 decimal places) \n",
        "\n",
        "\n",
        "Step 2. Calculate the sample standard deviation for the given sample data. (Round answer to 2 decimal places) \n",
        "\n",
        "\n",
        "Step 3. Find the critical value that should be used in constructing the confidence interval. (Round answer to 3 decimal places) \n",
        "\n",
        "\n",
        "Step 4. Construct the 90% confidence interval. (Round answer to 2 decimal places)\n",
        "\n",
        "\n",
        "\n",
        "\n"
      ],
      "metadata": {
        "id": "DjZixB39cTvY"
      }
    },
    {
      "cell_type": "code",
      "source": [
        ""
      ],
      "metadata": {
        "id": "uEM4ect7KHfK"
      },
      "execution_count": null,
      "outputs": []
    },
    {
      "cell_type": "markdown",
      "source": [
        "A random sample of 16 fields of spring wheat has a mean yield of 46.4 bushels per acre and standard deviation of 2.45 bushels per acre.  Determine the 80% confidence interval for the true mean yield.  Assume the population is normally distributed.  \n",
        "\n",
        "Step 1. Find the critical value that should be used in constructing the confidence interval. (Round answer to 3 decimal places) \n",
        "\n",
        "\n",
        "Step 2. Construct the 80% confidence interval. (Round answer to 1 decimal place)\n",
        "\n",
        "\n",
        "\n"
      ],
      "metadata": {
        "id": "4wEu2V9ZcW9H"
      }
    },
    {
      "cell_type": "code",
      "source": [
        "# mean = 46.4, sample = 16, std = 2.45, confidence interval = 80% or 0.8"
      ],
      "metadata": {
        "id": "H97hlmiXKIRr"
      },
      "execution_count": null,
      "outputs": []
    },
    {
      "cell_type": "markdown",
      "source": [
        "A toy manufacturer wants to know how many new toys children buy each year.  She thinks the mean is 8 toys per year.  Assume a previous study found the standard deviation to be 1.9.  How large of a sample would be required in order to estimate the mean number of toys bought per child at the 99% confidence level with an error of at most 0.13 toys? (Round your answer up to the next integer)"
      ],
      "metadata": {
        "id": "QYemltu-cYfE"
      }
    },
    {
      "cell_type": "code",
      "source": [
        "# mean = 8, std = 1.9, sample =? , confidence level = 99% or 0.99, err = 0.13\n",
        "toy = norm.ppf ()"
      ],
      "metadata": {
        "id": "8htl5y81K1ZR"
      },
      "execution_count": null,
      "outputs": []
    },
    {
      "cell_type": "markdown",
      "source": [
        "A research scientist wants to know how many times per hour a certain strand of bacteria reproduces.  He believes that the mean is 12.6.  Assume the variance is known to be 3.61.  How large of a sample would be required in order to estimate the mean number of reproductions per hour at the 95% confidence level with an error of at most 0.19 reproductions? (Round your answer up to the next integer)\n",
        "\n"
      ],
      "metadata": {
        "id": "fVjcJKsjcZ5U"
      }
    },
    {
      "cell_type": "markdown",
      "source": [
        "The state education commission wants to estimate the fraction of tenth grade students that have reading skills at or below the eighth grade level.\n",
        "\n",
        "Step 1. Suppose a sample of 2089 tenth graders is drawn. Of the students sampled, 1734 read above the eighth grade level.  Using the data, estimate the proportion of tenth graders reading at or below the eighth grade level. (Write your answer as a fraction or a decimal number rounded to 3 decimal places) \n",
        "\n",
        "\n",
        "Step 2. Suppose a sample of 2089 tenth graders is drawn.  Of the students sampled, 1734 read above the eighth grade level.  Using the data, construct the 98% confidence interval for the population proportion of tenth graders reading at or below the eighth grade level. (Round your answers to 3 decimal places)\n",
        "\n",
        "\n",
        "\n"
      ],
      "metadata": {
        "id": "WwNnqX_ncbNi"
      }
    },
    {
      "cell_type": "markdown",
      "source": [
        "An environmentalist wants to find out the fraction of oil tankers that have spills each month.\n",
        "\n",
        "Step 1. Suppose a sample of 474 tankers is drawn.  Of these ships, 156 had spills.  Using the data, estimate the proportion of oil tankers that had spills. (Write your answer as a fraction or a decimal number rounded to 3 decimal places) \n",
        "\n",
        "[Continued on next page ....]\n",
        " \n",
        "\n",
        "Step 2. Suppose a sample of 474 tankers is drawn.  Of these ships, 156 had spills.  Using the data, construct the 95% confidence interval for the population proportion of oil tankers that have spills each month. (Round your answers to 3 decimal places)\n",
        "\n",
        "\n",
        "\n",
        "\n",
        "\n"
      ],
      "metadata": {
        "id": "Id3b8qU7cdFl"
      }
    }
  ]
}